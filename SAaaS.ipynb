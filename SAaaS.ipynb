{
 "cells": [
  {
   "cell_type": "code",
   "execution_count": null,
   "id": "03e7957e-3064-4330-879a-2e7415d11f94",
   "metadata": {
    "tags": []
   },
   "outputs": [],
   "source": [
    "pip install --quiet -U openai ipywidgets langchain langchain-community langchain-core langchain-chroma langchain-openai langchain-huggingface pypdf pysqlite3-binary sentence-transformers "
   ]
  },
  {
   "cell_type": "markdown",
   "id": "8cc89bc4-53ae-4277-91b8-43fa136208d3",
   "metadata": {},
   "source": [
    "# Set Up The Model\n",
    "In this block, we install chromadb and other dependancies.  Chroma requires sqlite3 so that is imported as well.\n",
    "\n",
    "The LLM that is used is Mistral:Instruct that is hosted by an Ollama container running in OpenShift.\n",
    "\n",
    "HuggingFace Embeddings are used since they can be run locally and can be configured to take advantage of available GPUs."
   ]
  },
  {
   "cell_type": "code",
   "execution_count": null,
   "id": "0d554fdc-e452-49e7-a6eb-74900cc66b2b",
   "metadata": {
    "tags": []
   },
   "outputs": [],
   "source": [
    "__import__('pysqlite3')\n",
    "import sys\n",
    "sys.modules['sqlite3'] = sys.modules.pop('pysqlite3')\n",
    "import chromadb\n",
    "from chromadb.utils.embedding_functions import SentenceTransformerEmbeddingFunction\n",
    "\n",
    "import io\n",
    "import re\n",
    "import bs4\n",
    "import os.path\n",
    "from langchain import hub\n",
    "from langchain_community.document_loaders import WebBaseLoader\n",
    "from langchain_community.document_loaders import PyPDFLoader\n",
    "from langchain_core.documents import Document\n",
    "from langchain_core.output_parsers import StrOutputParser\n",
    "from langchain_core.prompts import PromptTemplate\n",
    "from langchain_core.runnables import RunnableLambda, RunnablePassthrough, RunnableParallel\n",
    "from langchain_core.prompts import ChatPromptTemplate\n",
    "from langchain_chroma import Chroma\n",
    "from langchain_huggingface import HuggingFaceEmbeddings\n",
    "from langchain_openai import ChatOpenAI\n",
    "from langchain.utils.math import cosine_similarity\n",
    "from langchain_text_splitters import RecursiveCharacterTextSplitter, SentenceTransformersTokenTextSplitter\n",
    "from pypdf import PdfReader\n",
    "from sentence_transformers import SentenceTransformer\n",
    "from typing import List\n",
    "from IPython.display import display, Markdown\n",
    "\n",
    "model = ChatOpenAI(model=\"<model name>\",\n",
    "                   base_url=\"<base_URL for Model>\",\n",
    "                   temperature = 0,\n",
    "                   api_key = \"<API Key>\",\n",
    "                   streaming=True  # ! important\n",
    "                   )"
   ]
  },
  {
   "cell_type": "markdown",
   "id": "c04b2832-fa2f-44b0-8b9e-345eca336fff",
   "metadata": {},
   "source": [
    "# Gather Data, Chunk it and Store it in the vector store\n",
    "\n",
    "If the database is not present, then create it by downloading and chunking the files.  If it is present, then just load it."
   ]
  },
  {
   "cell_type": "code",
   "execution_count": null,
   "id": "dc6480fa-8f89-44c9-b79b-9b6ac07379c2",
   "metadata": {
    "tags": []
   },
   "outputs": [],
   "source": [
    "# embeddings = HuggingFaceEmbeddings(model_name=\"all-MiniLM-L6-v2\",model_kwargs={'device': 'cuda'})\n",
    "embeddings = HuggingFaceEmbeddings(model_name=\"all-MiniLM-L6-v2\",model_kwargs={})\n",
    "embedding_function = SentenceTransformerEmbeddingFunction()"
   ]
  },
  {
   "cell_type": "code",
   "execution_count": null,
   "id": "37a3fd5d-9e79-4e0b-add7-ce15826dde03",
   "metadata": {
    "tags": []
   },
   "outputs": [],
   "source": [
    "persist_dir = \"db_rhel\"\n",
    "\n",
    "check_file = \"False\"\n",
    "\n",
    "path = 'db_rhel/chroma.sqlite3'\n",
    "\n",
    "check_file = os.path.isfile(path)\n",
    "\n",
    "if check_file is False:\n",
    "    urls = [\n",
    "        'https://docs.redhat.com/en-us/documentation/red_hat_enterprise_linux/9/pdf/interactively_installing_rhel_from_installation_media/Red_Hat_Enterprise_Linux-9-Interactively_installing_RHEL_from_installation_media-en-US.pdf',\n",
    "        'https://docs.redhat.com/en-us/documentation/red_hat_enterprise_linux/9/pdf/automatically_installing_rhel/Red_Hat_Enterprise_Linux-9-Automatically_installing_RHEL-en-US.pdf',\n",
    "        'https://docs.redhat.com/en-us/documentation/red_hat_enterprise_linux/9/pdf/upgrading_from_rhel_8_to_rhel_9/Red_Hat_Enterprise_Linux-9-Upgrading_from_RHEL_8_to_RHEL_9-en-US.pdf',\n",
    "        'https://docs.redhat.com/en-us/documentation/red_hat_enterprise_linux/9/pdf/configuring_basic_system_settings/Red_Hat_Enterprise_Linux-9-Configuring_basic_system_settings-en-US.pdf',\n",
    "        'https://docs.redhat.com/en-us/documentation/red_hat_enterprise_linux/9/pdf/security_hardening/Red_Hat_Enterprise_Linux-9-Security_hardening-en-US.pdf',\n",
    "        'https://docs.redhat.com/en-us/documentation/red_hat_enterprise_linux/9/pdf/composing_a_customized_rhel_system_image/Red_Hat_Enterprise_Linux-9-Composing_a_customized_RHEL_system_image-en-US.pdf',\n",
    "        'https://docs.redhat.com/en-us/documentation/red_hat_enterprise_linux/9/pdf/configuring_and_managing_networking/Red_Hat_Enterprise_Linux-9-Configuring_and_managing_networking-en-US.pdf',\n",
    "        'https://docs.redhat.com/en-us/documentation/red_hat_enterprise_linux/9/pdf/configuring_and_managing_cloud-init_for_rhel_9/Red_Hat_Enterprise_Linux-9-Configuring_and_managing_cloud-init_for_RHEL_9-en-US.pdf',\n",
    "        'https://docs.redhat.com/en-us/documentation/red_hat_enterprise_linux/9/pdf/using_image_mode_for_rhel_to_build_deploy_and_manage_operating_systems/Red_Hat_Enterprise_Linux-9-Using_image_mode_for_RHEL_to_build_deploy_and_manage_operating_systems-en-US.pdf',\n",
    "        'https://docs.redhat.com/en-us/documentation/red_hat_enterprise_linux/9/pdf/configuring_and_managing_virtualization/Red_Hat_Enterprise_Linux-9-Configuring_and_managing_virtualization-en-US.pdf',\n",
    "        'https://docs.redhat.com/en-us/documentation/red_hat_enterprise_linux/9/pdf/building_running_and_managing_containers/Red_Hat_Enterprise_Linux-9-Building_running_and_managing_containers-en-US.pdf',\n",
    "        'https://docs.redhat.com/en-us/documentation/red_hat_enterprise_linux/9/pdf/9.4_release_notes/Red_Hat_Enterprise_Linux-9-9.4_Release_Notes-en-US.pdf'\n",
    "    ]\n",
    "    \n",
    "    pages = []\n",
    "    \n",
    "    for file in urls:\n",
    "        loader = PyPDFLoader(file, extract_images=False)\n",
    "        pages = pages + loader.load()\n",
    "        \n",
    "    text_splitter = RecursiveCharacterTextSplitter(separators=[\"\\n\\n\", \"\\n\", \". \", \" \", \"\"], chunk_size=1275, chunk_overlap=0)\n",
    "    \n",
    "    splits = text_splitter.split_documents(pages)\n",
    "    \n",
    "    vectorstore = Chroma.from_documents(documents=splits, embedding=embeddings, persist_directory=persist_dir)"
   ]
  },
  {
   "cell_type": "code",
   "execution_count": null,
   "id": "f2abff8f-72eb-4dd7-b995-83f441666e56",
   "metadata": {
    "tags": []
   },
   "outputs": [],
   "source": [
    "persist_dir = \"db_ansible\"\n",
    "\n",
    "check_file = \"False\"\n",
    "\n",
    "path = 'db_ansible/chroma.sqlite3'\n",
    "\n",
    "check_file = os.path.isfile(path)\n",
    "\n",
    "if check_file is False:\n",
    "    urls = [\n",
    "        'https://docs.redhat.com/en-us/documentation/red_hat_ansible_automation_platform/2.4/pdf/getting_started_with_automation_controller/Red_Hat_Ansible_Automation_Platform-2.4-Getting_started_with_automation_controller-en-US.pdf',\n",
    "        'https://docs.redhat.com/en-us/documentation/red_hat_ansible_automation_platform/2.4/pdf/getting_started_with_automation_hub/Red_Hat_Ansible_Automation_Platform-2.4-Getting_started_with_automation_hub-en-US.pdf',\n",
    "        'https://docs.redhat.com/en-us/documentation/red_hat_ansible_automation_platform/2.4/pdf/getting_started_with_ansible_playbooks/Red_Hat_Ansible_Automation_Platform-2.4-Getting_started_with_Ansible_Playbooks-en-US.pdf',\n",
    "        'https://docs.redhat.com/en-us/documentation/red_hat_ansible_automation_platform/2.4/pdf/containerized_ansible_automation_platform_installation_guide/Red_Hat_Ansible_Automation_Platform-2.4-Containerized_Ansible_Automation_Platform_installation_guide-en-US.pdf',\n",
    "        'https://docs.redhat.com/en-us/documentation/red_hat_ansible_automation_platform/2.4/pdf/deploying_the_red_hat_ansible_automation_platform_operator_on_openshift_container_platform/Red_Hat_Ansible_Automation_Platform-2.4-Deploying_the_Red_Hat_Ansible_Automation_Platform_operator_on_OpenShift_Container_Platform-en-US.pdf',\n",
    "        'https://docs.redhat.com/en-us/documentation/red_hat_ansible_automation_platform/2.4/pdf/red_hat_ansible_automation_platform_operations_guide/Red_Hat_Ansible_Automation_Platform-2.4-Red_Hat_Ansible_Automation_Platform_operations_guide-en-US.pdf',\n",
    "        'https://docs.redhat.com/en-us/documentation/red_hat_ansible_automation_platform/2.4/pdf/red_hat_ansible_automation_platform_hardening_guide/Red_Hat_Ansible_Automation_Platform-2.4-Red_Hat_Ansible_Automation_Platform_hardening_guide-en-US.pdf'\n",
    "    ]\n",
    "\n",
    "    pages = []\n",
    "    \n",
    "    for file in urls:\n",
    "        loader = PyPDFLoader(file, extract_images=False)\n",
    "        pages = pages + loader.load()\n",
    "        \n",
    "    text_splitter = RecursiveCharacterTextSplitter(separators=[\"\\n\\n\", \"\\n\", \". \", \" \", \"\"], chunk_size=1700, chunk_overlap=0)\n",
    "    \n",
    "    splits = text_splitter.split_documents(pages)\n",
    "    \n",
    "    vectorstore = Chroma.from_documents(documents=splits, embedding=embeddings, persist_directory=persist_dir)"
   ]
  },
  {
   "cell_type": "code",
   "execution_count": null,
   "id": "bf2373b3-14fe-4f55-9fea-c072d9b9e4aa",
   "metadata": {
    "tags": []
   },
   "outputs": [],
   "source": [
    "persist_dir = \"db_openshift\"\n",
    "\n",
    "check_file = \"False\"\n",
    "\n",
    "path = 'db_openshift/chroma.sqlite3'\n",
    "\n",
    "check_file = os.path.isfile(path)\n",
    "\n",
    "if check_file is False:\n",
    "    urls = [\n",
    "        'https://docs.redhat.com/en/documentation/openshift_container_platform/4.18/pdf/installation_overview/OpenShift_Container_Platform-4.18-Installation_overview-en-US.pdf',\n",
    "        'https://docs.redhat.com/en/documentation/openshift_container_platform/4.18/pdf/installing_on-premise_with_assisted_installer/OpenShift_Container_Platform-4.18-Installing_on-premise_with_Assisted_Installer-en-US.pdf',\n",
    "        'https://docs.redhat.com/en/documentation/openshift_container_platform/4.18/pdf/authentication_and_authorization/OpenShift_Container_Platform-4.18-Authentication_and_authorization-en-US.pdf',\n",
    "        'https://docs.redhat.com/en/documentation/openshift_container_platform/4.18/pdf/storage/OpenShift_Container_Platform-4.18-Storage-en-US.pdf',\n",
    "        'https://docs.redhat.com/en/documentation/openshift_container_platform/4.18/pdf/scalability_and_performance/OpenShift_Container_Platform-4.18-Scalability_and_performance-en-US.pdf',\n",
    "        'https://docs.redhat.com/en/documentation/openshift_container_platform/4.18/pdf/cli_tools/OpenShift_Container_Platform-4.18-CLI_tools-en-US.pdf',\n",
    "        'https://docs.redhat.com/en/documentation/openshift_container_platform/4.18/pdf/virtualization/OpenShift_Container_Platform-4.18-Virtualization-en-US.pdf'\n",
    "    ]\n",
    "\n",
    "    pages = []\n",
    "    \n",
    "    for file in urls:\n",
    "        loader = PyPDFLoader(file, extract_images=False)\n",
    "        pages = pages + loader.load()\n",
    "        \n",
    "    text_splitter = RecursiveCharacterTextSplitter(separators=[\"\\n\\n\", \"\\n\", \". \", \" \", \"\"], chunk_size=675, chunk_overlap=0)\n",
    "    \n",
    "    splits = text_splitter.split_documents(pages)\n",
    "    \n",
    "    vectorstore = Chroma.from_documents(documents=splits, embedding=embeddings, persist_directory=persist_dir)"
   ]
  },
  {
   "cell_type": "markdown",
   "id": "7c71b422-fc16-4834-b795-ecf4c08f4253",
   "metadata": {},
   "source": [
    "# Set up the prompts"
   ]
  },
  {
   "cell_type": "code",
   "execution_count": null,
   "id": "e2c11840-b8ee-44bc-ad4e-73f84150a107",
   "metadata": {
    "tags": []
   },
   "outputs": [],
   "source": [
    "# Set up the prompts\n",
    "\n",
    "rhel_template = \"\"\"You are an expert in Red Hat Enterprise Linux (RHEL) who retrieves information from documents.\\n\n",
    "When you don't know the answer say that you don't know.\\n\n",
    "Always include a list of \"SOURCES\" part in your answer with a link to the source document.\\n\n",
    "\n",
    "QUESTION: {question}\n",
    "=========\n",
    "{source_docs}\n",
    "=========\n",
    "ANSWER: \"\"\"\n",
    "\n",
    "ansible_template = \"\"\"You are an expert in Ansible Automation Platform (AAP) who retieves information from documents.\\n\n",
    "When you don't know the answer say that you don't know.\\n\n",
    "Always include a list of \"SOURCES\" part in your answer with a link to the source document.\\n\n",
    "\n",
    "QUESTION: {question}\n",
    "=========\n",
    "{source_docs}\n",
    "=========\n",
    "ANSWER: \"\"\"\n",
    "\n",
    "openshift_template = \"\"\"You are an expert in OpenShift Container Platform (OCP), and it's CLI tool oc.\\n\n",
    "You retrieve information from documents.\\n\n",
    "When you don't know the answer say that you don't know.\\n\n",
    "Always include a list of \"SOURCES\" part in your answer with a link to the source document.\\n\n",
    "\n",
    "QUESTION: {question}\n",
    "=========\n",
    "{source_docs}\n",
    "=========\n",
    "ANSWER: \"\"\"\n",
    "\n",
    "other_template = \"\"\"You are an expert in general knowledge.\\n\n",
    "Do not answer the question.\\n\n",
    "Ask how the questions is related a Red Hat product.\\n\n",
    "\"\"\"\n",
    "\n",
    "prompt_templates = [rhel_template, ansible_template, openshift_template, other_template]\n",
    "prompt_embeddings = embeddings.embed_documents(prompt_templates)\n",
    "\n",
    "# these lists are used to \n",
    "rhel_topics = \"\"\"Red Hat Enterprise Linux, RHEL, Podman, SElinux\"\"\"\n",
    "ansible_topics = \"\"\"Ansible Automation Platform, AAP\"\"\"\n",
    "openshift_topics = \"\"\"OpenShift Container Platform, OCP, oc, vrtctl\"\"\"\n",
    "other_topics = \"\"\"everything else, satellites, food, fictional characters\"\"\"\n",
    "\n",
    "topic_templates = [rhel_topics, ansible_topics, openshift_topics, other_topics]\n",
    "topic_embeddings = embeddings.embed_documents(topic_templates)\n",
    "\n",
    "# Set up some defauls\n",
    "rag_prompt = ChatPromptTemplate.from_template(ansible_template)"
   ]
  },
  {
   "cell_type": "markdown",
   "id": "5cb14391-a5be-47cf-a085-7e9f9d6196e9",
   "metadata": {
    "tags": []
   },
   "source": [
    "# Define the RAG Chains as functions."
   ]
  },
  {
   "cell_type": "code",
   "execution_count": null,
   "id": "eff6e16e-db36-4fe0-b424-abb5748cac5a",
   "metadata": {
    "tags": []
   },
   "outputs": [],
   "source": [
    "# the prompt_router function detemines which product the question is most likely about\n",
    "# and returns the name of the product\n",
    "\n",
    "def prompt_router(input):\n",
    "    query_embedding = embeddings.embed_query(input[\"question\"])\n",
    "    \n",
    "    similarity = cosine_similarity([query_embedding], topic_embeddings)[0]\n",
    "    # enable this line if you want to observe similarity scoring\n",
    "    print(\"===== Similarity:   (RHEL        Ansible     OpenShift   Other)\\n          Scores: \",similarity,\"\\n\")\n",
    "    most_similar = prompt_templates[similarity.argmax()]\n",
    "    \n",
    "    if most_similar == rhel_template:\n",
    "        return \"rhel\"\n",
    "    elif most_similar == ansible_template:\n",
    "        return  \"ansible\"\n",
    "    elif most_similar == openshift_template:\n",
    "        return \"openshift\"\n",
    "    elif most_similar == other_template:\n",
    "        return \"other\"\n",
    "\n",
    "# Format the source docs forthe LLM\n",
    "def format_docs(docs: List[Document]) -> str:\n",
    "    return \"\\n\\n\".join(f\"Content: {doc.page_content}\\nSource: {doc.metadata['source']}\" for doc in docs)\n",
    "\n",
    "# Chains\n",
    "\n",
    "# Process the source_docs to generate the answer\n",
    "def rag_chain_fn(question):\n",
    "    rag_from_docs_chain = (\n",
    "        RunnablePassthrough.assign(\n",
    "            source_docs=(lambda x: format_docs(x[\"source_docs\"]))\n",
    "        )\n",
    "        | rag_prompt\n",
    "        | model\n",
    "        | StrOutputParser()\n",
    "    )\n",
    "    \n",
    "    # Retrieve source docs and invoke the last chain.\n",
    "    rag_chain = (RunnableParallel(\n",
    "        {\n",
    "            \"source_docs\": lambda x: retriever,\n",
    "            \"question\": RunnablePassthrough()\n",
    "        }\n",
    "    ).assign(answer=rag_from_docs_chain))\n",
    "    \n",
    "    # Stream the output\n",
    "    curr_key = None\n",
    "    for chunk in rag_chain.stream(question):\n",
    "        for key in chunk:\n",
    "            if key == \"answer\":\n",
    "                print(chunk[key], end=\"\", flush=True)\n",
    "    \n",
    "    # Uncomment this line (and remove the streaming section) to return to normal output.\n",
    "    #return (rag_chain.invoke(question))\n",
    "\n",
    "\n",
    "# The router_chain calls the prompt-router function to determine the topic of the question.\n",
    "def router_chain_fn(question):\n",
    "    \n",
    "    router_chain = (\n",
    "        {\"question\": RunnablePassthrough()}\n",
    "        | RunnableLambda(prompt_router)\n",
    "    )\n",
    "    \n",
    "    return (router_chain.invoke(question))"
   ]
  },
  {
   "cell_type": "markdown",
   "id": "a0d7e631-0be3-442d-b773-91a719aea3f9",
   "metadata": {},
   "source": [
    "# Main Loop\n",
    "Here we get the question, set up some variables and route to the correct function to obtain results."
   ]
  },
  {
   "cell_type": "code",
   "execution_count": 15,
   "id": "5bd6cb08-32b2-4f26-a592-5b1aace1dbee",
   "metadata": {
    "editable": true,
    "slideshow": {
     "slide_type": ""
    },
    "tags": []
   },
   "outputs": [
    {
     "name": "stdout",
     "output_type": "stream",
     "text": [
      "===== Similarity:   (RHEL        Ansible     OpenShift   Other)\n",
      "          Scores:  [ 0.10353854  0.09155321  0.42611861 -0.01336667] \n",
      "\n",
      "The `oc create` command is used to create a new object in OpenShift Container Platform. It takes a YAML file as input and uses it to create the object. \n",
      "\n",
      "The `oc apply` command is used to apply a YAML file to the OpenShift cluster. It is similar to `oc create` but it is more flexible and can be used to apply changes to existing objects. \n",
      "\n",
      "**SOURCES:**\n",
      "\n",
      "* https://docs.redhat.com/en/documentation/openshift_container_platform/4.18/pdf/cli_tools/OpenShift_Container_Platform-4.18-CLI_tools-en-US.pdf \n",
      "* https://docs.redhat.com/en/documentation/openshift_container_platform/4.18/pdf/virtualization/OpenShift_Container_Platform-4.18-Virtualization-en-US.pdf \n",
      "* https://docs.redhat.com/en/documentation/openshift_container_platform/4.18/pdf/cli_tools/OpenShift_Container_Platform-4.18-CLI_tools-en-US.pdf \n",
      "\n",
      "\n",
      "\n"
     ]
    }
   ],
   "source": [
    "# Main loop - get the question, figures out the topic, routes to the right db and \n",
    "# then works to generate the answer.\n",
    "\n",
    "question = \"what is the difference betweeen oc create and oc apply?\"\n",
    "product = router_chain_fn(question)\n",
    "\n",
    "db_name = \"db_\" + product\n",
    "\n",
    "template = eval(product + \"_template\")\n",
    "\n",
    "rag_prompt = ChatPromptTemplate.from_template(template)\n",
    "vectorstore = Chroma(persist_directory=db_name, embedding_function=embeddings)\n",
    "retriever = vectorstore.as_retriever()\n",
    "\n",
    "results = rag_chain_fn(question)\n",
    "\n",
    "# Uncomment the below lines to revert to normal output.\n",
    "#answer = results[\"answer\"]\n",
    "    \n",
    "# display(Markdown(answer))"
   ]
  },
  {
   "cell_type": "code",
   "execution_count": null,
   "id": "d7cf5281-b271-4c71-8f87-f3f079413e39",
   "metadata": {},
   "outputs": [],
   "source": []
  }
 ],
 "metadata": {
  "kernelspec": {
   "display_name": "Python 3.11",
   "language": "python",
   "name": "python3"
  },
  "language_info": {
   "codemirror_mode": {
    "name": "ipython",
    "version": 3
   },
   "file_extension": ".py",
   "mimetype": "text/x-python",
   "name": "python",
   "nbconvert_exporter": "python",
   "pygments_lexer": "ipython3",
   "version": "3.11.7"
  }
 },
 "nbformat": 4,
 "nbformat_minor": 5
}
